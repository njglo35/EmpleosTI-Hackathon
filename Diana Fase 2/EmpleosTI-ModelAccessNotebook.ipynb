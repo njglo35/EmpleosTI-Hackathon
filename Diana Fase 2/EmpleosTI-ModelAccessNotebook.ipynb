{
 "cells": [
  {
   "cell_type": "markdown",
   "metadata": {
    "collapsed": true
   },
   "source": [
    "## Access an ML model\n"
   ]
  },
  {
   "cell_type": "code",
   "execution_count": 32,
   "metadata": {},
   "outputs": [],
   "source": [
    "import urllib3, requests, json\n",
    "from operator import itemgetter\n",
    "\n",
    "# retrieve your wml_service_credentials_username, wml_service_credentials_password, and wml_service_credentials_url from the\n",
    "# Service credentials associated with your IBM Cloud Watson Machine Learning Service instance\n",
    "\n",
    "wml_credentials={\n",
    "  \"username\": \"a541dc63-b6af-404d-a884-484d65be03c4\",\n",
    "  \"password\": \"e2604989-7721-42a6-b581-46520b07655b\",\n",
    "  \"instance_id\": \"e8f85422-505b-4e22-ab58-c6ae7c06d7aa\",\n",
    "  \"url\": \"https://ibm-watson-ml.mybluemix.net\"\n",
    "}\n",
    "\n",
    "headers = urllib3.util.make_headers(basic_auth='{username}:{password}'.format(username=wml_credentials['username'], \n",
    "                                                                              password=wml_credentials['password']))\n",
    "url = '{}/v3/identity/token'.format(wml_credentials['url'])\n",
    "response = requests.get(url, headers=headers)\n",
    "mltoken = json.loads(response.text).get('token')\n",
    "\n",
    "header = {'Content-Type': 'application/json', 'Authorization': 'Bearer ' + mltoken}"
   ]
  },
  {
   "cell_type": "code",
   "execution_count": 25,
   "metadata": {},
   "outputs": [],
   "source": [
    "# Casos de prueba de la empresa IDS\n",
    "\"\"\"\n",
    "IDs de postulados que fueron marcados como favoritos: 35044, 30857, 76469, 82866, 85098, 83840, 87064, 86975, 86955, 25301, 86937, 86934\n",
    "\"\"\"\n",
    "IDS_1 = [22495,\"IDS\",\"Recién Egresado de Ingeniería / Sistemas Computacionales o a fin para capacitación\",47,\"Java\",\"1,000 a 3,000\",\"demo \",\n",
    "         9,\"Ciudad de México\",23,90455,\"FALSE\",9,\"Ciudad de México\",\"5,000 a 10,000\",\"\",2,3,1,1]\n",
    "IDS_2 = [22495,\"IDS\",\"Recién Egresado de Ingeniería / Sistemas Computacionales o a fin para capacitación\",47,\"Java\",\"1,000 a 3,000\",\" demo \",\n",
    "         9,\"Ciudad de México\",23,88044,\"FALSE\",9,\"Ciudad de México\",\"1,000 a 3,000\",\"\",1,1,1,1]\n",
    "IDS_3 = [22495,\"IDS\",\"Recién Egresado de Ingeniería / Sistemas Computacionales o a fin para capacitación\",47,\"Java\",\"1,000 a 3,000\",\"demo \",\n",
    "         9,\"Ciudad de México\",23,89277,\"FALSE\",16,\"Michoacán\",\"3,000 a 5,000\",\"\",1,2,1,1]\n",
    "IDS_4 = [22495,\"IDS\",\"Recién Egresado de Ingeniería / Sistemas Computacionales o a fin para capacitación\",47,\"Java\",\"1,000 a 3,000\",\"demo \",\n",
    "         9,\"Ciudad de México\",23,90353,\"FALSE\",9,\"Ciudad de México\",\"3,000 a 5,000\",\"\",0,1,1,1]\n",
    "IDS_5 = [22495,\"IDS\",\"Recién Egresado de Ingeniería / Sistemas Computacionales o a fin para capacitación\",47,\"Java\",\"1,000 a 3,000\",\"demo \",\n",
    "         9,\"Ciudad de México\",23,88992,\"FALSE\",9,\"Ciudad de México\",\"5,000 a 10,000\",\"\",1,1,2,1]\n",
    "IDS_6 = [22495,\"IDS\",\"Recién Egresado de Ingeniería / Sistemas Computacionales o a fin para capacitación\",47,\"Java\",\"1,000 a 3,000\",\"demo \",\n",
    "         9,\"Ciudad de México\",23,35044,\"FALSE\",11,\"Estado de México\",\"5,000 a 10,000\",\"09/03/1994\",5,4,2,1]\n",
    "IDS_7 = [22495,\"IDS\",\"Recién Egresado de Ingeniería / Sistemas Computacionales o a fin para capacitación\",47,\"Java\",\"1,000 a 3,000\",\"demo \",\n",
    "         9,\"Ciudad de México\",23,80197,\"FALSE\",9,\"Ciudad de México\",\"10,000 a 15,000\",\"08/07/1987\",3,4,2,2]\n",
    "IDS_8 = [22495,\"IDS\",\"Recién Egresado de Ingeniería / Sistemas Computacionales o a fin para capacitación\",47,\"Java\",\"1,000 a 3,000\",\"demo \",\n",
    "         9,\"Ciudad de México\",23,68011,\"FALSE\",9,\"Ciudad de México\",\"5,000 a 10,000\",\"06/04/1991\",1,3,1,3]\n",
    "IDS_9 = [22495,\"IDS\",\"Recién Egresado de Ingeniería / Sistemas Computacionales o a fin para capacitación\",47,\"Java\",\"1,000 a 3,000\",\"demo \",\n",
    "         9,\"Ciudad de México\",23,30857,\"FALSE\",11,\"Estado de México\",\"5,000 a 10,000\",\"22/01/1990\",1,1,1,1]\n",
    "IDS_10 = [22495,\"IDS\",\"Recién Egresado de Ingeniería / Sistemas Computacionales o a fin para capacitación\",47,\"Java\",\"1,000 a 3,000\",\"demo \",\n",
    "         9,\"Ciudad de México\",23,59401,\"FALSE\",18,\"Nayarit\",\"5,000 a 10,000\",\"15/01/1994\",3,3,2,2]\n",
    "IDS_11 = [22495,\"IDS\",\"Recién Egresado de Ingeniería / Sistemas Computacionales o a fin para capacitación\",47,\"Java\",\"1,000 a 3,000\",\"demo \",\n",
    "         9,\"Ciudad de México\",23,87702,\"FALSE\",9,\"Ciudad de México\",\"1,000 a 3,000\",\"\",1,3,1,1]\n",
    "IDS_12 = [22495,\"IDS\",\"Recién Egresado de Ingeniería / Sistemas Computacionales o a fin para capacitación\",47,\"Java\",\"1,000 a 3,000\",\"demo \",\n",
    "         9,\"Ciudad de México\",23,88747,\"FALSE\",9,\"Ciudad de México\",\"10,000 a 15,000\",\"\",1,1,1,1]\n",
    "IDS_13 = [22495,\"IDS\",\"Recién Egresado de Ingeniería / Sistemas Computacionales o a fin para capacitación\",47,\"Java\",\"1,000 a 3,000\",\"demo \",\n",
    "         9,\"Ciudad de México\",23,88777,\"FALSE\",11,\"Estado de México\",\"\",\"\",1,3,1,1]\n",
    "IDS_14 = [22495,\"IDS\",\"Recién Egresado de Ingeniería / Sistemas Computacionales o a fin para capacitación\",47,\"Java\",\"1,000 a 3,000\",\"demo \",\n",
    "         9,\"Ciudad de México\",23,76469,\"FALSE\",11,\"Estado de México\",\"5,000 a 10,000\",\"\",1,2,1,1]\n",
    "IDS_15 = [22495,\"IDS\",\"Recién Egresado de Ingeniería / Sistemas Computacionales o a fin para capacitación\",47,\"Java\",\"1,000 a 3,000\",\"demo \",\n",
    "         9,\"Ciudad de México\",23,82866,\"FALSE\",9,\"Ciudad de México\",\"5,000 a 10,000\",\"\",2,3,1,1]\n",
    "IDS_16 = [22495,\"IDS\",\"Recién Egresado de Ingeniería / Sistemas Computacionales o a fin para capacitación\",47,\"Java\",\"1,000 a 3,000\",\"demo \",\n",
    "         9,\"Ciudad de México\",23,85098,\"FALSE\",11,\"Estado de México\",\"5,000 a 10,000\",\"\",3,2,1,1]\n",
    "IDS_17 = [22495,\"IDS\",\"Recién Egresado de Ingeniería / Sistemas Computacionales o a fin para capacitación\",47,\"Java\",\"1,000 a 3,000\",\"demo \",\n",
    "         9,\"Ciudad de México\",23,83840,\"FALSE\",11,\"Estado de México\",\"5,000 a 10,000\",\"\",1,3,1,1]\n",
    "IDS_18 = [22495,\"IDS\",\"Recién Egresado de Ingeniería / Sistemas Computacionales o a fin para capacitación\",47,\"Java\",\"1,000 a 3,000\",\"demo \",\n",
    "         9,\"Ciudad de México\",23,87064,\"FALSE\",27,\"Tabasco\",\"10,000 a 15,000\",\"\",0,3,1,1]\n",
    "IDS_19 = [22495,\"IDS\",\"Recién Egresado de Ingeniería / Sistemas Computacionales o a fin para capacitación\",47,\"Java\",\"1,000 a 3,000\",\"demo \",\n",
    "         9,\"Ciudad de México\",23,86975,\"FALSE\",5,\"Chiapas\",\"1,000 a 3,000\",\"\",0,1,1,1]\n",
    "IDS_20 = [22495,\"IDS\",\"Recién Egresado de Ingeniería / Sistemas Computacionales o a fin para capacitación\",47,\"Java\",\"1,000 a 3,000\",\"demo \",\n",
    "         9,\"Ciudad de México\",23,86955,\"FALSE\",28,\"Tamaulipas\",\"\",\"\",1,1,1,1]\n",
    "IDS_21 = [22495,\"IDS\",\"Recién Egresado de Ingeniería / Sistemas Computacionales o a fin para capacitación\",47,\"Java\",\"1,000 a 3,000\",\"demo \",\n",
    "         9,\"Ciudad de México\",23,25301,\"FALSE\",11,\"Estado de México\",\"10,000 a 15,000\",\"06/07/1991\",1,2,1,1]\n",
    "IDS_22 = [22495,\"IDS\",\"Recién Egresado de Ingeniería / Sistemas Computacionales o a fin para capacitación\",47,\"Java\",\"1,000 a 3,000\",\"demo \",\n",
    "         9,\"Ciudad de México\",23,86937,\"FALSE\",11,\"Estado de México\",\"5,000 a 10,000\",\"\",1,3,5,2]\n",
    "IDS_23 = [22495,\"IDS\",\"Recién Egresado de Ingeniería / Sistemas Computacionales o a fin para capacitación\",47,\"Java\",\"1,000 a 3,000\",\"demo \",\n",
    "         9,\"Ciudad de México\",23,86934,\"FALSE\",15,\"Jalisco\",\"3,000 a 5,000\",\"\",0,3,1,1]\n",
    "\n"
   ]
  },
  {
   "cell_type": "code",
   "execution_count": 26,
   "metadata": {
    "scrolled": true
   },
   "outputs": [],
   "source": [
    "# NOTE: manually define and pass the array(s) of values to be scored in the next line\n",
    "payload_scoring = {\"fields\": [\"id\", \"enterprise\", \"job\", \"skill_id\", \"skill_name\", \"salary\", \"description\", \"region_id\", \"region_name\", \"applicants\", \"id_applicant\", \"rejected\", \"region_id_applicant\", \"region_name_applicant\", \"current_salary_applicant\", \"birthday\", \"total_exp\", \"total_skill\", \"total_educ\", \"total_lang\"], \n",
    "                   \"values\": [IDS_1, IDS_2, IDS_3, IDS_4, IDS_5, IDS_6, IDS_7, IDS_8, IDS_9, IDS_10, IDS_11, IDS_12, IDS_13, IDS_14, IDS_15, IDS_16, IDS_17, IDS_18, IDS_19, IDS_20, IDS_21, IDS_22, IDS_23]}\n",
    "\n",
    "response_scoring = requests.post('https://ibm-watson-ml.mybluemix.net/v3/wml_instances/e8f85422-505b-4e22-ab58-c6ae7c06d7aa/published_models/face8c16-fc40-48cd-a18a-41759f4e6da0/deployments/1e19f751-d1dc-4c94-b7fe-1d6904868205/online', json=payload_scoring, headers=header)\n",
    "#print(\"Scoring response\")\n",
    "doc = json.loads(response_scoring.text)\n",
    "#print(doc)"
   ]
  },
  {
   "cell_type": "code",
   "execution_count": 39,
   "metadata": {},
   "outputs": [
    {
     "name": "stdout",
     "output_type": "stream",
     "text": [
      "['probability', 'prediction', 'nodeADP_class']\n",
      "ID postulante: 90455\n",
      "[[0.5442858424566986, 0.4557141575433013], 0.0, 'FALSE']\n",
      "ID postulante: 88044\n",
      "[[0.9488983310144954, 0.05110166898550465], 0.0, 'FALSE']\n",
      "ID postulante: 89277\n",
      "[[0.4231127218862726, 0.5768872781137274], 1.0, 'TRUE']\n",
      "ID postulante: 90353\n",
      "[[0.4586892993739065, 0.5413107006260934], 1.0, 'TRUE']\n",
      "ID postulante: 88992\n",
      "[[0.5877353645871449, 0.41226463541285513], 0.0, 'FALSE']\n",
      "ID postulante: 35044\n",
      "[[0.4637579712462358, 0.5362420287537641], 1.0, 'TRUE']\n",
      "ID postulante: 80197\n",
      "[[0.47353656010828055, 0.5264634398917195], 1.0, 'TRUE']\n",
      "ID postulante: 68011\n",
      "[[0.6859877772435414, 0.3140122227564585], 0.0, 'FALSE']\n",
      "ID postulante: 30857\n",
      "[[0.6097806759158795, 0.39021932408412047], 0.0, 'FALSE']\n",
      "ID postulante: 59401\n",
      "[[0.5842903754700962, 0.4157096245299038], 0.0, 'FALSE']\n",
      "ID postulante: 87702\n",
      "[[0.9368317559660179, 0.06316824403398211], 0.0, 'FALSE']\n",
      "ID postulante: 88747\n",
      "[[0.5304007122340498, 0.46959928776595017], 0.0, 'FALSE']\n",
      "ID postulante: 88777\n",
      "[[1.7219601013643787e-06, 0.9999982780398986], 1.0, 'TRUE']\n",
      "ID postulante: 76469\n",
      "[[0.582732111001355, 0.4172678889986449], 0.0, 'FALSE']\n",
      "ID postulante: 82866\n",
      "[[0.5442858424566986, 0.4557141575433013], 0.0, 'FALSE']\n",
      "ID postulante: 85098\n",
      "[[0.5625051489477577, 0.4374948510522422], 0.0, 'FALSE']\n",
      "ID postulante: 83840\n",
      "[[0.5551763488934475, 0.4448236511065526], 0.0, 'FALSE']\n",
      "ID postulante: 87064\n",
      "[[0.4905779429096962, 0.5094220570903037], 1.0, 'TRUE']\n",
      "ID postulante: 86975\n",
      "[[0.950615918804396, 0.049384081195604085], 0.0, 'FALSE']\n",
      "ID postulante: 86955\n",
      "[[2.205416829331605e-06, 0.9999977945831706], 1.0, 'TRUE']\n",
      "ID postulante: 25301\n",
      "[[0.5030072110791719, 0.496992788920828], 0.0, 'FALSE']\n",
      "ID postulante: 86937\n",
      "[[0.5365357783123026, 0.4634642216876975], 0.0, 'FALSE']\n",
      "ID postulante: 86934\n",
      "[[0.4055478826268175, 0.5944521173731825], 1.0, 'TRUE']\n"
     ]
    }
   ],
   "source": [
    "print(doc['fields'][22:25])\n",
    "positivos = []\n",
    "posiblespostulantes_dict = []\n",
    "for i in range(0, 23):\n",
    "    print(\"ID postulante: \" + str(doc['values'][i][10]))\n",
    "    print(doc['values'][i][22:25])\n",
    "    aux_postulante = {}\n",
    "    aux_postulante[\"id\"] = doc['values'][i][10]\n",
    "    aux_postulante[\"prob\"] = doc['values'][i][22][1]\n",
    "    posiblespostulantes_dict.append(aux_postulante)\n",
    "    if doc[\"values\"][i][23] == 1.0:\n",
    "        positivos.append(str(doc['values'][i][10]))"
   ]
  },
  {
   "cell_type": "code",
   "execution_count": 44,
   "metadata": {},
   "outputs": [
    {
     "name": "stdout",
     "output_type": "stream",
     "text": [
      "Lista de positivos mediante inferencia: ['89277', '90353', '35044', '80197', '88777', '87064', '86955', '86934']\n",
      "Primeros 15 candidatos: \n",
      "ID: 88777\t Prob: 0.9999982780398986\n",
      "ID: 86955\t Prob: 0.9999977945831706\n",
      "ID: 86934\t Prob: 0.5944521173731825\n",
      "ID: 89277\t Prob: 0.5768872781137274\n",
      "ID: 90353\t Prob: 0.5413107006260934\n",
      "ID: 35044\t Prob: 0.5362420287537641\n",
      "ID: 80197\t Prob: 0.5264634398917195\n",
      "ID: 87064\t Prob: 0.5094220570903037\n",
      "ID: 25301\t Prob: 0.496992788920828\n",
      "ID: 88747\t Prob: 0.46959928776595017\n",
      "ID: 86937\t Prob: 0.4634642216876975\n",
      "ID: 90455\t Prob: 0.4557141575433013\n",
      "ID: 82866\t Prob: 0.4557141575433013\n",
      "ID: 83840\t Prob: 0.4448236511065526\n",
      "ID: 85098\t Prob: 0.4374948510522422\n"
     ]
    }
   ],
   "source": [
    "print(\"Lista de positivos mediante inferencia: \" + str(positivos))\n",
    "postulantes_ordenados = sorted(posiblespostulantes_dict, key=itemgetter('prob'), reverse=True)\n",
    "num_candidatos = 15\n",
    "if num_candidatos > len(postulantes_ordenados):\n",
    "    num_candidatos = len(postulantes_ordenados)\n",
    "print(\"Primeros \" + str(num_candidatos) + \" candidatos: \")\n",
    "for i in range(0, num_candidatos):\n",
    "    print(\"ID: \" + str(postulantes_ordenados[i][\"id\"]) + \"\\t Prob: \" + str(postulantes_ordenados[i][\"prob\"]))"
   ]
  },
  {
   "cell_type": "code",
   "execution_count": null,
   "metadata": {},
   "outputs": [],
   "source": []
  }
 ],
 "metadata": {
  "kernelspec": {
   "display_name": "Python 3.5",
   "language": "python",
   "name": "python3"
  },
  "language_info": {
   "codemirror_mode": {
    "name": "ipython",
    "version": 3
   },
   "file_extension": ".py",
   "mimetype": "text/x-python",
   "name": "python",
   "nbconvert_exporter": "python",
   "pygments_lexer": "ipython3",
   "version": "3.5.4"
  }
 },
 "nbformat": 4,
 "nbformat_minor": 1
}
